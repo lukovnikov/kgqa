{
  "cells": [
    {
      "cell_type": "code",
      "execution_count": 56,
      "outputs": [
        {
          "name": "stdout",
          "text": [
            "1\nfind(%(e_out)s, %(e_to_e_out)s)\n301\nintersection(find(class, rdf:type), find(%(e_out)s, %(e_to_e_out)s))\n2\nfind(%(e_in)s, reverse(%(e_in_to_e)s))\n302\nintersection(find(class, rdf:type), find(%(e_in)s, reverse(%(e_in_to_e)s)))\n3\nfind(intersection(find(class, rdf:type), find(%(e_in_in)s, reverse(%(e_in_in_to_e_in)s))), reverse(%(e_in_to_e)s))\n303\nfind(find(%(e_in_in)s, reverse(%(e_in_in_to_e_in)s)), reverse(%(e_in_to_e)s))\n5\nfind(find(%(e_in_out)s, %(e_in_to_e_in_out)s), reverse(%(e_in_to_e)s))\n305\nintersection(find(find(%(e_in_out)s, %(e_in_to_e_in_out)s), reverse(%(e_in_to_e)s)), find(class, rdf:type))\n6\nfind(find(%(e_out_out)s, %(e_out_to_e_out_out)s), %(e_to_e_out)s)\n306\nintersection(find(class, rdf:type), find(find(%(e_out_out)s, %(e_out_to_e_out_out)s), %(e_to_e_out)s))\n7\nintersection(find(%(e_out_2)s, %(e_to_e_out)s), find(%(e_out_1)s, %(e_to_e_out)s))\n307\nintersection(find(%(e_out_1)s, %(e_to_e_out)s), find(%(e_out_2)s, %(e_to_e_out)s))\n8\nintersection(find(%(e_out_2)s, %(e_to_e_out_2)s), find(%(e_out_1)s, %(e_to_e_out_1)s))\n308\nintersection(intersection(find(%(e_out_2)s, %(e_to_e_out_2)s), find(class, rdf:type)), find(%(e_out_1)s, %(e_to_e_out_1)s))\n9\nfind(find(%(e_in_in)s, reverse(%(e_in_in_to_e_in)s)), reverse(%(e_in_to_e)s))\n309\nfind(intersection(find(class, rdf:type), find(%(e_in_in)s, reverse(%(e_in_in_to_e_in)s))), reverse(%(e_in_to_e)s))\n311\nfind(intersection(find(class, rdf:type), find(%(e_in_out)s, %(e_in_to_e_in_out)s)), reverse(%(e_in_to_e)s))\n61\nfind(find(%(e_in_out)s, %(e_in_to_e_in_out)s), reverse(%(e_in_to_e)s))\n15\nintersection(find(%(e_in_1)s, reverse(%(e_in_to_e)s)), find(%(e_in_2)s, reverse(%(e_in_to_e)s)))\n315\nintersection(intersection(find(%(e_in_1)s, reverse(%(e_in_to_e)s)), find(%(e_in_2)s, reverse(%(e_in_to_e)s))), find(class, rdf:type))\n16\nintersection(find(%(e_in_1)s, reverse(%(e_in_to_e_1)s)), find(%(e_in_2)s, reverse(%(e_in_to_e_2)s)))\n316\nintersection(intersection(find(class, rdf:type), find(%(e_in_2)s, reverse(%(e_in_to_e_2)s))), find(%(e_in_1)s, reverse(%(e_in_to_e_1)s)))\n101\nfind(%(e_out)s, %(e_to_e_out)s)\n401\nintersection(find(class, rdf:type), find(%(e_out)s, %(e_to_e_out)s))\n102\nfind(%(e_in)s, reverse(%(e_in_to_e)s))\n402\nintersection(find(class, rdf:type), find(%(e_in)s, reverse(%(e_in_to_e)s)))\n103\nfind(find(%(e_in_in)s, reverse(%(e_in_in_to_e_in)s)), reverse(%(e_in_to_e)s))\n403\nfind(find(%(e_in_in)s, reverse(%(e_in_in_to_e_in)s)), reverse(%(e_in_to_e)s))\n105\nfind(intersection(find(class, rdf:type), find(%(e_in_out)s, %(e_in_to_e_in_out)s)), reverse(%(e_in_to_e)s))\n405\nintersection(find(find(%(e_in_out)s, %(e_in_to_e_in_out)s), reverse(%(e_in_to_e)s)), find(class, rdf:type))\n106\nfind(find(%(e_out_out)s, %(e_out_to_e_out_out)s), %(e_to_e_out)s)\n406\nintersection(find(find(%(e_out_out)s, %(e_out_to_e_out_out)s), %(e_to_e_out)s), find(class, rdf:type))\n107\nintersection(find(%(e_out_1)s, %(e_to_e_out)s), find(%(e_out_2)s, %(e_to_e_out)s))\n407\nintersection(intersection(find(%(e_out_2)s, %(e_to_e_out)s), find(%(e_out_1)s, %(e_to_e_out)s)), find(class, rdf:type))\n108\nintersection(find(%(e_out_2)s, %(e_to_e_out_2)s), find(%(e_out_1)s, %(e_to_e_out_1)s))\n408\nintersection(intersection(find(class, rdf:type), find(%(e_out_2)s, %(e_to_e_out_2)s)), find(%(e_out_1)s, %(e_to_e_out_1)s))\n111\nfind(find(%(e_in_out)s, %(e_in_to_e_in_out)s), reverse(%(e_in_to_e)s))\n411\nfind(intersection(find(%(e_in_out)s, %(e_in_to_e_in_out)s), find(class, rdf:type)), reverse(%(e_in_to_e)s))\n151\nin(%(uri)s, find(%(e_out)s, %(e_to_e_out)s))\n451\nin(%(uri)s, find(%(e_out)s, %(e_to_e_out)s))\n152\nin(%(e_in)s, find(%(uri)s, %(e_in_to_e)s))\n452\nin(%(e_in)s, find(%(uri)s, %(e_in_to_e)s))\n"
          ],
          "output_type": "stream"
        }
      ],
      "source": "from rdflib.util import get_tree, find_roots\nfrom rdflib.term import *\nfrom rdflib import Graph\nfrom itertools import chain\nfrom functools import reduce\nimport copy\n\n# def handle \n\n\ndef queryToGrammar(q):\n    g \u003d Graph()\n    \n    askquery \u003d True if q[1].name \u003d\u003d \u0027AskQuery\u0027 else False\n    \n    triples \u003d q[1][\u0027where\u0027][\u0027part\u0027][0][\u0027triples\u0027]\n    triples \u003d [(i[0], i[1][\u0027part\u0027][0][\u0027part\u0027][0][\u0027part\u0027], i[2]) for i in triples]\n    \n    for triple in triples:\n        g.add(triple)\n        \n    if askquery:\n        triple \u003d triples[0]\n        out \u003d \"in({}, find({}, {}))\".format(triple[0], triple[2], triple[1])\n    else:\n        select \u003d \u0027uri\u0027\n        \n        triples_without_select_var \u003d copy.deepcopy(g)\n        triples_without_select_var -\u003d g.triples((Variable(select), None, None))\n        triples_without_select_var -\u003d g.triples((None, None, Variable(select)))\n\n        non_select_entities_in_where \u003d list(triples_without_select_var.subjects()) + list(triples_without_select_var.objects())\n        x_count \u003d non_select_entities_in_where.count(True)\n        x_finds \u003d []\n\n        if non_select_entities_in_where:\n            for s,p,o in triples_without_select_var:\n                if s \u003d\u003d Variable(\u0027x\u0027):\n                    x_finds.append(\"find({}, {})\".format(o, p))\n                if o \u003d\u003d Variable(\u0027x\u0027):\n                    x_finds.append(\"find({}, reverse({}))\".format(s, p))\n\n            assert len(x_finds) in [1,2]\n\n            if len(x_finds) \u003d\u003d 1:\n                x_finds \u003d x_finds[0]\n            else:\n                x_finds \u003d reduce(lambda a,b: \"intersection({}, {})\".format(a, b), x_finds)\n\n                \n                \n        select_finds \u003d []\n        select_g \u003d Graph()\n        select_g +\u003d g.triples((Variable(select), None, None))\n        select_g +\u003d g.triples((None, None, Variable(select)))\n\n        for s,p,o in select_g:\n            if Variable(\u0027x\u0027) not in [s, o]:\n                if s \u003d\u003d Variable(select):\n                    select_finds.append(\"find({}, {})\".format(o, p))\n                if o \u003d\u003d Variable(select):\n                    select_finds.append(\"find({}, reverse({}))\".format(s, p))\n            else:\n                if s \u003d\u003d Variable(\u0027x\u0027):\n                    select_finds.append(\"find({}, reverse({}))\".format(x_finds, p))\n                if o \u003d\u003d Variable(\u0027x\u0027):\n                    select_finds.append(\"find({}, {})\".format(x_finds, p))\n\n        if len(select_finds) \u003d\u003d 1:\n            select_finds \u003d select_finds[0]\n        else:\n            select_finds \u003d reduce(lambda a,b: \"intersection({}, {})\".format(a, b), select_finds)\n            \n        out \u003d select_finds\n    \n    return out\n\n\n\n\n# Testing queryToGrammar\n    \nfrom rdflib.plugins.sparql.parser import parseQuery\nfrom rdflib.plugins.sparql.parserutils import prettify_parsetree\nfrom rdflib.term import *\n\nimport json, codecs\nwith codecs.open(\"/home/nilesh/python/lcquad/templates.json\") as fp:\n    temps \u003d json.load(fp)\n    temps \u003d {x[\"id\"]: x[\"template\"] for x in temps}\n\nfor idx, q in list(temps.items()):\n#     if idx !\u003d 309:\n#         continue\n    try:\n        q \u003d parseQuery(q)\n    #     print(prettify_parsetree(q))\n        print(idx)\n        print(queryToGrammar(q))\n#     try:\n#         print(queryToGrammar(q))\n    except Exception as e:\n        print (repr(e))\n        print(\"ERROR:\", idx, q)\n        \n\n",
      "metadata": {
        "pycharm": {
          "metadata": false,
          "name": "#%%\n",
          "is_executing": false
        }
      }
    },
    {
      "cell_type": "code",
      "execution_count": null,
      "outputs": [],
      "source": "import codecs, pickle\nfrom dataclasses import dataclass, field\nfrom typing import Dict\n\ndef grouper(iterable, n, fillvalue\u003dNone):\n    args \u003d [iter(iterable)] * n\n    return zip_longest(*args, fillvalue\u003dfillvalue)\n\n@dataclass\nclass Container:\n    container: Dict[str,int] \u003d field(default_factory\u003ddict)\n    counter: int \u003d 0\n        \n    def get(self, element):\n        if element in self.container:\n            ret \u003d self.container[element]\n        else:\n            ret \u003d self.container[element] \u003d self.counter\n            self.counter +\u003d 1\n        return ret\n            \nentities \u003d Container()\npredicates \u003d Container()\ntriples \u003d []\n\n\nwith codecs.open(\"/data/ssd1/dbpedia/triples.index.pickle\", \"rb\") as f:\n    (entities, predicates) \u003d pickle.load(f)\n    \nwith codecs.open(\"/data/ssd1/dbpedia/triples.pickle\", \"rb\") as f:\n    triples \u003d pickle.load(f)\n    \npred_id_uri \u003d dict([(j,i) for i,j in predicates.container.items()])\nent_id_uri \u003d dict([(j,i) for i,j in entities.container.items()])\n",
      "metadata": {
        "pycharm": {
          "metadata": false,
          "name": "#%%\n"
        }
      }
    },
    {
      "cell_type": "code",
      "execution_count": 49,
      "metadata": {
        "collapsed": true,
        "pycharm": {
          "is_executing": false
        }
      },
      "outputs": [
        {
          "name": "stdout",
          "text": [
            "MATCH (x)-[:`rRT`]-\u003e(tvshow {`uri`: $tvshow_uri}) MATCH (x)-[:`R`]-\u003e(y) MATCH (y)-[:`rSW`]-\u003e(docextra {`uri`: $docextra_uri}) RETURN x\nOrderedDict([(\u0027docextra_uri\u0027, \u0027http://dbpedia.org/resource/Doctor_Who_Extra\u0027), (\u0027tvshow_uri\u0027, \u0027http://dbpedia.org/ontology/TelevisionShow\u0027)])\n"
          ],
          "output_type": "stream"
        }
      ],
      "source": "from pypher import Pypher, Param\nfrom dataclasses import dataclass\n\n@dataclass\nclass Grammar:\n    p: Pypher\n\n    def blank_node(self, var_in: str):\n        self.p.node(var_in)\n\n    def uri_node(self, var_in: str, e: str):\n        param \u003d Param(f\u0027{var_in}_uri\u0027, e)\n        self.p.node(var_in, uri\u003dparam)\n    \n    def find(self, var_out: str, var_in, e: str, r: str):\n        self.p.Match.node(var_out)\n        \n        if r.startswith(\"-\"):\n            self.p.rel_in(labels\u003dr[1:])\n        else:\n            if(r.startswith(\"+\")):\n                r \u003d r[1:]\n            self.p.rel_out(labels\u003dr)\n        if e:\n            self.uri_node(var_in, e)\n        else:\n            self.blank_node(var_in)\n        \n    def get_return(self, var):\n        getattr(self.p.RETURN, var)\n        return self.p\n    \n    # def find(self, x: str, r: str):\n    #     self.p.Match.node(\u0027x\u0027)\n\ng \u003d Grammar(Pypher())\ng.find(\u0027x\u0027, \"tvshow\", \"http://dbpedia.org/ontology/TelevisionShow\", f\"rRT\")\ng.find(\u0027x\u0027, \u0027y\u0027, None, f\"R\")\ng.find(\u0027y\u0027, \"docextra\", \u0027http://dbpedia.org/resource/Doctor_Who_Extra\u0027, f\"rSW\")\ncypher \u003d g.get_return(\u0027x\u0027)\nprint(cypher)\nprint(cypher.bound_params)\n\n# g \u003d Grammar(Pypher())\n# cypher \u003d g.find(\"http://dbpedia.org/ontology/TelevisionShow\", f\"-r2\")\n# print(cypher)\n# print(cypher.bound_params)\n# print(len(pred_id_uri))\n# print(node(\"http://blah\"))\n\n# MATCH (e:Entity {uri:\"http://dbpedia.org/ontology/TelevisionShow\"})\u003c-[r {uri:\"http://www.w3.org/1999/02/22-rdf-syntax-ns#type\"}]-(x) RETURN r,x\n\n# MATCH (s)-[r]-\u003e(e:Entity {uri: \u0027http://dbpedia.org/resource/India\u0027}) RETURN s,r\n"
    },
    {
      "cell_type": "code",
      "execution_count": 36,
      "outputs": [
        {
          "name": "stdout",
          "text": [
            "MATCH (out)-[:`r2`]-\u003e(e {`euri`: $euri}) RETURN out\n"
          ],
          "output_type": "stream"
        }
      ],
      "source": "    g \u003d Grammar(Pypher())\n    c \u003d g.find(\u0027http://dbpedia.org/ontology/TelevisionShow\u0027,\n             f\"r2\")\n    print(c)\n",
      "metadata": {
        "pycharm": {
          "metadata": false,
          "name": "#%%\n",
          "is_executing": false
        }
      }
    },
    {
      "cell_type": "code",
      "execution_count": 52,
      "outputs": [
        {
          "name": "stdout",
          "text": [
            "MATCH (x)-[:`r2`]-\u003e(tvshow {`uri`: $tvshow_uri}) MATCH (x)-[:`1297`]-\u003e(y) MATCH (y)-[:`r1371`]-\u003e(docextra {`uri`: $docextra_uri}) RETURN x\nOrderedDict([(\u0027docextra_uri\u0027, \u0027http://dbpedia.org/resource/Doctor_Who_Extra\u0027), (\u0027tvshow_uri\u0027, \u0027http://dbpedia.org/ontology/TelevisionShow\u0027)])\nMATCH (x)-[:`r2`]-\u003e(tvshow {`uri`: $tvshow_uri}) MATCH (x)-[:`1297`]-\u003e(y) MATCH (y)-[:`r1371`]-\u003e(docextra {`uri`: $docextra_uri}) RETURN x LIMIT 10\n"
          ],
          "output_type": "stream"
        },
        {
          "traceback": [
            "\u001b[0;31m---------------------------------------------------------------------------\u001b[0m",
            "\u001b[0;31mTypeError\u001b[0m                                 Traceback (most recent call last)",
            "\u001b[0;32m\u003cipython-input-52-496b51311bdf\u003e\u001b[0m in \u001b[0;36m\u003cmodule\u003e\u001b[0;34m\u001b[0m\n\u001b[1;32m     20\u001b[0m \u001b[0;34m\u001b[0m\u001b[0m\n\u001b[1;32m     21\u001b[0m \u001b[0;32mwith\u001b[0m \u001b[0mdriver\u001b[0m\u001b[0;34m.\u001b[0m\u001b[0msession\u001b[0m\u001b[0;34m(\u001b[0m\u001b[0;34m)\u001b[0m \u001b[0;32mas\u001b[0m \u001b[0msession\u001b[0m\u001b[0;34m:\u001b[0m\u001b[0;34m\u001b[0m\u001b[0;34m\u001b[0m\u001b[0m\n\u001b[0;32m---\u003e 22\u001b[0;31m     \u001b[0mout\u001b[0m \u001b[0;34m\u003d\u001b[0m \u001b[0msession\u001b[0m\u001b[0;34m.\u001b[0m\u001b[0mwrite_transaction\u001b[0m\u001b[0;34m(\u001b[0m\u001b[0mquery\u001b[0m\u001b[0;34m)\u001b[0m\u001b[0;34m\u001b[0m\u001b[0;34m\u001b[0m\u001b[0m\n\u001b[0m\u001b[1;32m     23\u001b[0m     \u001b[0mprint\u001b[0m\u001b[0;34m(\u001b[0m\u001b[0mout\u001b[0m\u001b[0;34m)\u001b[0m\u001b[0;34m\u001b[0m\u001b[0;34m\u001b[0m\u001b[0m\n",
            "\u001b[0;32m~/anaconda3/lib/python3.7/site-packages/neo4j/__init__.py\u001b[0m in \u001b[0;36mwrite_transaction\u001b[0;34m(self, unit_of_work, *args, **kwargs)\u001b[0m\n\u001b[1;32m    710\u001b[0m     \u001b[0;32mdef\u001b[0m \u001b[0mwrite_transaction\u001b[0m\u001b[0;34m(\u001b[0m\u001b[0mself\u001b[0m\u001b[0;34m,\u001b[0m \u001b[0munit_of_work\u001b[0m\u001b[0;34m,\u001b[0m \u001b[0;34m*\u001b[0m\u001b[0margs\u001b[0m\u001b[0;34m,\u001b[0m \u001b[0;34m**\u001b[0m\u001b[0mkwargs\u001b[0m\u001b[0;34m)\u001b[0m\u001b[0;34m:\u001b[0m\u001b[0;34m\u001b[0m\u001b[0;34m\u001b[0m\u001b[0m\n\u001b[1;32m    711\u001b[0m         \u001b[0mself\u001b[0m\u001b[0;34m.\u001b[0m\u001b[0m_assert_open\u001b[0m\u001b[0;34m(\u001b[0m\u001b[0;34m)\u001b[0m\u001b[0;34m\u001b[0m\u001b[0;34m\u001b[0m\u001b[0m\n\u001b[0;32m--\u003e 712\u001b[0;31m         \u001b[0;32mreturn\u001b[0m \u001b[0mself\u001b[0m\u001b[0;34m.\u001b[0m\u001b[0m_run_transaction\u001b[0m\u001b[0;34m(\u001b[0m\u001b[0mWRITE_ACCESS\u001b[0m\u001b[0;34m,\u001b[0m \u001b[0munit_of_work\u001b[0m\u001b[0;34m,\u001b[0m \u001b[0;34m*\u001b[0m\u001b[0margs\u001b[0m\u001b[0;34m,\u001b[0m \u001b[0;34m**\u001b[0m\u001b[0mkwargs\u001b[0m\u001b[0;34m)\u001b[0m\u001b[0;34m\u001b[0m\u001b[0;34m\u001b[0m\u001b[0m\n\u001b[0m\u001b[1;32m    713\u001b[0m \u001b[0;34m\u001b[0m\u001b[0m\n\u001b[1;32m    714\u001b[0m     \u001b[0;32mdef\u001b[0m \u001b[0m_assert_open\u001b[0m\u001b[0;34m(\u001b[0m\u001b[0mself\u001b[0m\u001b[0;34m)\u001b[0m\u001b[0;34m:\u001b[0m\u001b[0;34m\u001b[0m\u001b[0;34m\u001b[0m\u001b[0m\n",
            "\u001b[0;32m~/anaconda3/lib/python3.7/site-packages/neo4j/__init__.py\u001b[0m in \u001b[0;36m_run_transaction\u001b[0;34m(self, access_mode, unit_of_work, *args, **kwargs)\u001b[0m\n\u001b[1;32m    673\u001b[0m                 \u001b[0mtx\u001b[0m \u001b[0;34m\u003d\u001b[0m \u001b[0mself\u001b[0m\u001b[0;34m.\u001b[0m\u001b[0m_transaction\u001b[0m\u001b[0;34m\u001b[0m\u001b[0;34m\u001b[0m\u001b[0m\n\u001b[1;32m    674\u001b[0m                 \u001b[0;32mtry\u001b[0m\u001b[0;34m:\u001b[0m\u001b[0;34m\u001b[0m\u001b[0;34m\u001b[0m\u001b[0m\n\u001b[0;32m--\u003e 675\u001b[0;31m                     \u001b[0mresult\u001b[0m \u001b[0;34m\u003d\u001b[0m \u001b[0munit_of_work\u001b[0m\u001b[0;34m(\u001b[0m\u001b[0mtx\u001b[0m\u001b[0;34m,\u001b[0m \u001b[0;34m*\u001b[0m\u001b[0margs\u001b[0m\u001b[0;34m,\u001b[0m \u001b[0;34m**\u001b[0m\u001b[0mkwargs\u001b[0m\u001b[0;34m)\u001b[0m\u001b[0;34m\u001b[0m\u001b[0;34m\u001b[0m\u001b[0m\n\u001b[0m\u001b[1;32m    676\u001b[0m                 \u001b[0;32mexcept\u001b[0m \u001b[0mException\u001b[0m\u001b[0;34m:\u001b[0m\u001b[0;34m\u001b[0m\u001b[0;34m\u001b[0m\u001b[0m\n\u001b[1;32m    677\u001b[0m                     \u001b[0;32mif\u001b[0m \u001b[0mtx\u001b[0m\u001b[0;34m.\u001b[0m\u001b[0msuccess\u001b[0m \u001b[0;32mis\u001b[0m \u001b[0;32mNone\u001b[0m\u001b[0;34m:\u001b[0m\u001b[0;34m\u001b[0m\u001b[0;34m\u001b[0m\u001b[0m\n",
            "\u001b[0;32m\u003cipython-input-52-496b51311bdf\u003e\u001b[0m in \u001b[0;36mquery\u001b[0;34m(tx)\u001b[0m\n\u001b[1;32m     17\u001b[0m     \u001b[0mprint\u001b[0m\u001b[0;34m(\u001b[0m\u001b[0mc\u001b[0m\u001b[0;34m)\u001b[0m\u001b[0;34m\u001b[0m\u001b[0;34m\u001b[0m\u001b[0m\n\u001b[1;32m     18\u001b[0m     \u001b[0mresult\u001b[0m \u001b[0;34m\u003d\u001b[0m \u001b[0mtx\u001b[0m\u001b[0;34m.\u001b[0m\u001b[0mrun\u001b[0m\u001b[0;34m(\u001b[0m\u001b[0mstr\u001b[0m\u001b[0;34m(\u001b[0m\u001b[0mc\u001b[0m\u001b[0;34m)\u001b[0m\u001b[0;34m.\u001b[0m\u001b[0mreplace\u001b[0m\u001b[0;34m(\u001b[0m\u001b[0;34m\"e()\"\u001b[0m\u001b[0;34m,\u001b[0m \u001b[0;34m\"e\"\u001b[0m\u001b[0;34m)\u001b[0m\u001b[0;34m,\u001b[0m \u001b[0;34m**\u001b[0m\u001b[0mc\u001b[0m\u001b[0;34m.\u001b[0m\u001b[0mbound_params\u001b[0m\u001b[0;34m)\u001b[0m\u001b[0;34m\u001b[0m\u001b[0;34m\u001b[0m\u001b[0m\n\u001b[0;32m---\u003e 19\u001b[0;31m     \u001b[0;32mreturn\u001b[0m \u001b[0mresult\u001b[0m\u001b[0;34m.\u001b[0m\u001b[0msingle\u001b[0m\u001b[0;34m(\u001b[0m\u001b[0;34m)\u001b[0m\u001b[0;34m[\u001b[0m\u001b[0;36m0\u001b[0m\u001b[0;34m]\u001b[0m\u001b[0;34m\u001b[0m\u001b[0;34m\u001b[0m\u001b[0m\n\u001b[0m\u001b[1;32m     20\u001b[0m \u001b[0;34m\u001b[0m\u001b[0m\n\u001b[1;32m     21\u001b[0m \u001b[0;32mwith\u001b[0m \u001b[0mdriver\u001b[0m\u001b[0;34m.\u001b[0m\u001b[0msession\u001b[0m\u001b[0;34m(\u001b[0m\u001b[0;34m)\u001b[0m \u001b[0;32mas\u001b[0m \u001b[0msession\u001b[0m\u001b[0;34m:\u001b[0m\u001b[0;34m\u001b[0m\u001b[0;34m\u001b[0m\u001b[0m\n",
            "\u001b[0;31mTypeError\u001b[0m: \u0027NoneType\u0027 object is not subscriptable"
          ],
          "ename": "TypeError",
          "evalue": "\u0027NoneType\u0027 object is not subscriptable",
          "output_type": "error"
        }
      ],
      "source": "from neo4j import GraphDatabase\n\n# driver \u003d GraphDatabase.driver(\"bolt://192.168.178.150:7687\", auth\u003d(\u0027neo4j\u0027, \u0027password\u0027))\n\ng \u003d Grammar(Pypher())\ng.find(\u0027x\u0027, \"tvshow\", \"http://dbpedia.org/ontology/TelevisionShow\", f\"r2\")\ng.find(\u0027x\u0027, \u0027y\u0027, None, f\"1297\")\ng.find(\u0027y\u0027, \"docextra\", \u0027http://dbpedia.org/resource/Doctor_Who_Extra\u0027, f\"r1371\")\nc \u003d g.get_return(\u0027x\u0027)\nprint(c)\nprint(c.bound_params)\n\ndef query(tx):\n    # g \u003d Grammar(Pypher())\n    # c \u003d g.find(\"http://dbpedia.org/ontology/Work\", f\":r{predicates.container[\u0027http://www.w3.org/1999/02/22-rdf-syntax-ns#type\u0027]}\")\n    c.LIMIT(10)\n    print(c)\n    result \u003d tx.run(str(c).replace(\"e()\", \"e\"), **c.bound_params)\n    return result.single()[0]\n\nwith driver.session() as session:\n    out \u003d session.write_transaction(query)\n    print(out)\n",
      "metadata": {
        "pycharm": {
          "metadata": false,
          "name": "#%%\n",
          "is_executing": false
        }
      }
    }
  ],
  "metadata": {
    "language_info": {
      "codemirror_mode": {
        "name": "ipython",
        "version": 2
      },
      "file_extension": ".py",
      "mimetype": "text/x-python",
      "name": "python",
      "nbconvert_exporter": "python",
      "pygments_lexer": "ipython2",
      "version": "2.7.6"
    },
    "kernelspec": {
      "name": "python3",
      "language": "python",
      "display_name": "Python 3"
    },
    "stem_cell": {
      "cell_type": "raw",
      "source": "",
      "metadata": {
        "pycharm": {
          "metadata": false
        }
      }
    }
  },
  "nbformat": 4,
  "nbformat_minor": 0
}