{
  "cells": [
    {
      "cell_type": "code",
      "execution_count": 85,
      "outputs": [
        {
          "name": "stdout",
          "text": [
            "309\n(\u0027x\u0027, [(rdflib.term.URIRef(\u0027class\u0027), rdflib.term.URIRef(\u0027rdf:type\u0027)), (rdflib.term.URIRef(\u0027%(e_in_in)s\u0027), \u0027-%(e_in_in_to_e_in)s\u0027)])\n(\u0027x\u0027, [(rdflib.term.URIRef(\u0027class\u0027), rdflib.term.URIRef(\u0027rdf:type\u0027)), (rdflib.term.URIRef(\u0027%(e_in_in)s\u0027), \u0027-%(e_in_in_to_e_in)s\u0027)])\n(\u0027uri\u0027, [(\u0027x\u0027, \u0027-%(e_in_to_e)s\u0027)])\n{\u0027x\u0027: [(rdflib.term.URIRef(\u0027class\u0027), rdflib.term.URIRef(\u0027rdf:type\u0027)), (rdflib.term.URIRef(\u0027%(e_in_in)s\u0027), \u0027-%(e_in_in_to_e_in)s\u0027)], \u0027uri\u0027: [(\u0027x\u0027, \u0027-%(e_in_to_e)s\u0027)]}\n SELECT DISTINCT ?uri WHERE { \u003c%(e_in_in)s\u003e  \u003c%(e_in_in_to_e_in)s\u003e ?x .  ?x \u003c%(e_in_to_e)s\u003e ?uri. ?x \u003crdf:type\u003e \u003cclass\u003e}\nfind(intersection(find(class, rdf:type), find(%(e_in_in)s, reverse(%(e_in_in_to_e_in)s))), reverse(%(e_in_to_e)s))\nMATCH (x)-[:`rdf:type`]-\u003e(o0 {`uri`: $o0_uri}) MATCH (x)\u003c-[:`%(e_in_in_to_e_in)s`]-(o0 {`uri`: $o0_uri}) MATCH (uri)\u003c-[:`%(e_in_to_e)s`]-(o1 {`uri`: $o1_uri}) RETURN uri\nOrderedDict([(\u0027o0_uri\u0027, rdflib.term.URIRef(\u0027%(e_in_in)s\u0027)), (\u0027o1_uri\u0027, \u0027x\u0027)])\n"
          ],
          "output_type": "stream"
        }
      ],
      "source": "from rdflib.util import get_tree, find_roots\nfrom rdflib.term import *\nfrom rdflib import Graph\nfrom itertools import chain\nfrom functools import reduce\nimport copy\n\n# def handle \n\n\ndef queryToGrammar(q):\n    g \u003d Graph()\n    gr \u003d Grammar(Pypher())\n    treebuffer \u003d []\n    \n    class Tree():\n        def __init__(self):\n            self.tree \u003d {}\n            self.variables \u003d [\u0027x\u0027, \u0027y\u0027, \u0027z\u0027]\n            self.varptr \u003d 0\n            \n        def addToTree(self, func):\n            var \u003d self.variables[self.varptr]\n            self.tree[var] \u003d func\n        \n    askquery \u003d True if q[1].name \u003d\u003d \u0027AskQuery\u0027 else False\n    \n    triples \u003d q[1][\u0027where\u0027][\u0027part\u0027][0][\u0027triples\u0027]\n    triples \u003d [(i[0], i[1][\u0027part\u0027][0][\u0027part\u0027][0][\u0027part\u0027], i[2]) for i in triples]\n    \n    for triple in triples:\n        g.add(triple)\n        \n    if askquery:\n        triple \u003d triples[0]\n        out \u003d \"in({}, find({}, {}))\".format(triple[0], triple[2], triple[1])\n    else:\n        select \u003d \u0027uri\u0027\n        \n        triples_without_select_var \u003d copy.deepcopy(g)\n        triples_without_select_var -\u003d g.triples((Variable(select), None, None))\n        triples_without_select_var -\u003d g.triples((None, None, Variable(select)))\n\n        non_select_entities_in_where \u003d list(triples_without_select_var.subjects()) + list(triples_without_select_var.objects())\n        x_count \u003d non_select_entities_in_where.count(True)\n        x_finds \u003d []\n        x_finds_raw \u003d []\n\n        if non_select_entities_in_where:\n            for s,p,o in triples_without_select_var:\n                if s \u003d\u003d Variable(\u0027x\u0027):\n                    x_finds_raw +\u003d [(o, p)] \n                    x_finds.append(\"find({}, {})\".format(o, p))\n                if o \u003d\u003d Variable(\u0027x\u0027):\n                    x_finds_raw +\u003d [(s, f\"-{p}\")] \n                    x_finds.append(\"find({}, reverse({}))\".format(s, p))\n\n            assert len(x_finds) in [1,2]\n\n            if len(x_finds) \u003d\u003d 1:\n                x_finds \u003d x_finds[0]\n            else:\n                x_finds \u003d reduce(lambda a,b: \"intersection({}, {})\".format(a, b), x_finds)\n\n                \n                \n        select_finds \u003d []\n        select_g \u003d Graph()\n        select_g +\u003d g.triples((Variable(select), None, None))\n        select_g +\u003d g.triples((None, None, Variable(select)))\n\n        tree \u003d {\u0027x\u0027: [], \u0027uri\u0027: []}\n\n        for s,p,o in select_g:\n            if Variable(\u0027x\u0027) not in [s, o]:\n                if s \u003d\u003d Variable(select):\n                    tree[\u0027uri\u0027] +\u003d [(o, p)]\n                    select_finds.append(\"find({}, {})\".format(o, p))\n                if o \u003d\u003d Variable(select):\n                    tree[\u0027uri\u0027] +\u003d [(s, f\"-{p}\")]\n                    select_finds.append(\"find({}, reverse({}))\".format(s, p))\n            else:\n                if s \u003d\u003d Variable(\u0027x\u0027):\n                    tree[\u0027x\u0027] \u003d x_finds_raw\n                    tree[\u0027uri\u0027] +\u003d [(\u0027x\u0027, f\"-{p}\")]\n                    select_finds.append(\"find({}, reverse({}))\".format(x_finds, p))\n                if o \u003d\u003d Variable(\u0027x\u0027):\n                    tree[\u0027x\u0027] \u003d x_finds_raw\n                    tree[\u0027uri\u0027] +\u003d [(\u0027x\u0027, f\"-{p}\")]\n                    select_finds.append(\"find({}, {})\".format(x_finds, p))\n\n        if len(select_finds) \u003d\u003d 1:\n            select_finds \u003d select_finds[0]\n        else:\n            select_finds \u003d reduce(lambda a,b: \"intersection({}, {})\".format(a, b), select_finds)\n\n\n        for i, elements in enumerate(tree.items()):\n            var, er \u003d elements\n            for entity, relation in er:\n                print(elements)\n                gr.find(var, f\u0027o{i}\u0027, entity, relation)\n            \n        print(tree)\n        out \u003d select_finds\n        out2 \u003d gr.get_return(\u0027uri\u0027)\n    \n    return out, out2\n\n\n\n\n# Testing queryToGrammar\n    \nfrom rdflib.plugins.sparql.parser import parseQuery\nfrom rdflib.plugins.sparql.parserutils import prettify_parsetree\nfrom rdflib.term import *\n\nimport json, codecs\nwith codecs.open(\"/home/nilesh/python/lcquad/templates.json\") as fp:\n    temps \u003d json.load(fp)\n    temps \u003d {x[\"id\"]: x[\"template\"] for x in temps}\n\nfor idx, sq in list(temps.items()):\n    if idx !\u003d 309:\n        continue\n    try:\n        q \u003d parseQuery(sq)\n    #     print(prettify_parsetree(q))\n        print(idx)\n        out, out2 \u003d queryToGrammar(q)\n        print(sq)\n        print(out)\n        print(out2)\n        print(out2.bound_params)\n#     try:\n#         print(queryToGrammar(q))\n    except Exception as e:\n        print (repr(e))\n        print(\"ERROR:\", idx, q)\n        \n\n",
      "metadata": {
        "pycharm": {
          "metadata": false,
          "name": "#%%\n",
          "is_executing": false
        }
      }
    },
    {
      "cell_type": "code",
      "execution_count": null,
      "outputs": [],
      "source": "import codecs, pickle\nfrom dataclasses import dataclass, field\nfrom typing import Dict\n\ndef grouper(iterable, n, fillvalue\u003dNone):\n    args \u003d [iter(iterable)] * n\n    return zip_longest(*args, fillvalue\u003dfillvalue)\n\n@dataclass\nclass Container:\n    container: Dict[str,int] \u003d field(default_factory\u003ddict)\n    counter: int \u003d 0\n        \n    def get(self, element):\n        if element in self.container:\n            ret \u003d self.container[element]\n        else:\n            ret \u003d self.container[element] \u003d self.counter\n            self.counter +\u003d 1\n        return ret\n            \nentities \u003d Container()\npredicates \u003d Container()\ntriples \u003d []\n\n\nwith codecs.open(\"/data/ssd1/dbpedia/triples.index.pickle\", \"rb\") as f:\n    (entities, predicates) \u003d pickle.load(f)\n    \nwith codecs.open(\"/data/ssd1/dbpedia/triples.pickle\", \"rb\") as f:\n    triples \u003d pickle.load(f)\n    \npred_id_uri \u003d dict([(j,i) for i,j in predicates.container.items()])\nent_id_uri \u003d dict([(j,i) for i,j in entities.container.items()])\n",
      "metadata": {
        "pycharm": {
          "metadata": false,
          "name": "#%%\n"
        }
      }
    },
    {
      "cell_type": "code",
      "execution_count": 49,
      "metadata": {
        "collapsed": true,
        "pycharm": {
          "is_executing": false
        }
      },
      "outputs": [
        {
          "name": "stdout",
          "text": [
            "MATCH (x)-[:`rRT`]-\u003e(tvshow {`uri`: $tvshow_uri}) MATCH (x)-[:`R`]-\u003e(y) MATCH (y)-[:`rSW`]-\u003e(docextra {`uri`: $docextra_uri}) RETURN x\nOrderedDict([(\u0027docextra_uri\u0027, \u0027http://dbpedia.org/resource/Doctor_Who_Extra\u0027), (\u0027tvshow_uri\u0027, \u0027http://dbpedia.org/ontology/TelevisionShow\u0027)])\n"
          ],
          "output_type": "stream"
        }
      ],
      "source": "from pypher import Pypher, Param\nfrom dataclasses import dataclass\n\n@dataclass\nclass Grammar:\n    p: Pypher\n\n    def blank_node(self, var_in: str):\n        self.p.node(var_in)\n\n    def uri_node(self, var_in: str, e: str):\n        param \u003d Param(f\u0027{var_in}_uri\u0027, e)\n        self.p.node(var_in, uri\u003dparam)\n    \n    def find(self, var_out: str, var_in, e: str, r: str):\n        self.p.Match.node(var_out)\n        \n        if r.startswith(\"-\"):\n            self.p.rel_in(labels\u003dr[1:])\n        else:\n            if(r.startswith(\"+\")):\n                r \u003d r[1:]\n            self.p.rel_out(labels\u003dr)\n        if e:\n            self.uri_node(var_in, e)\n        else:\n            self.blank_node(var_in)\n        \n    def get_return(self, var):\n        getattr(self.p.RETURN, var)\n        return self.p\n    \n    # def find(self, x: str, r: str):\n    #     self.p.Match.node(\u0027x\u0027)\n\ng \u003d Grammar(Pypher())\ng.find(\u0027x\u0027, \"tvshow\", \"http://dbpedia.org/ontology/TelevisionShow\", f\"rRT\")\ng.find(\u0027x\u0027, \u0027y\u0027, None, f\"R\")\ng.find(\u0027y\u0027, \"docextra\", \u0027http://dbpedia.org/resource/Doctor_Who_Extra\u0027, f\"rSW\")\ncypher \u003d g.get_return(\u0027x\u0027)\nprint(cypher)\nprint(cypher.bound_params)\n\n# g \u003d Grammar(Pypher())\n# cypher \u003d g.find(\"http://dbpedia.org/ontology/TelevisionShow\", f\"-r2\")\n# print(cypher)\n# print(cypher.bound_params)\n# print(len(pred_id_uri))\n# print(node(\"http://blah\"))\n\n# MATCH (e:Entity {uri:\"http://dbpedia.org/ontology/TelevisionShow\"})\u003c-[r {uri:\"http://www.w3.org/1999/02/22-rdf-syntax-ns#type\"}]-(x) RETURN r,x\n\n# MATCH (s)-[r]-\u003e(e:Entity {uri: \u0027http://dbpedia.org/resource/India\u0027}) RETURN s,r\n"
    },
    {
      "cell_type": "code",
      "execution_count": 36,
      "outputs": [
        {
          "name": "stdout",
          "text": [
            "MATCH (out)-[:`r2`]-\u003e(e {`euri`: $euri}) RETURN out\n"
          ],
          "output_type": "stream"
        }
      ],
      "source": "    g \u003d Grammar(Pypher())\n    c \u003d g.find(\u0027http://dbpedia.org/ontology/TelevisionShow\u0027,\n             f\"r2\")\n    print(c)\n",
      "metadata": {
        "pycharm": {
          "metadata": false,
          "name": "#%%\n",
          "is_executing": false
        }
      }
    },
    {
      "cell_type": "code",
      "execution_count": 52,
      "outputs": [
        {
          "name": "stdout",
          "text": [
            "MATCH (x)-[:`r2`]-\u003e(tvshow {`uri`: $tvshow_uri}) MATCH (x)-[:`1297`]-\u003e(y) MATCH (y)-[:`r1371`]-\u003e(docextra {`uri`: $docextra_uri}) RETURN x\nOrderedDict([(\u0027docextra_uri\u0027, \u0027http://dbpedia.org/resource/Doctor_Who_Extra\u0027), (\u0027tvshow_uri\u0027, \u0027http://dbpedia.org/ontology/TelevisionShow\u0027)])\nMATCH (x)-[:`r2`]-\u003e(tvshow {`uri`: $tvshow_uri}) MATCH (x)-[:`1297`]-\u003e(y) MATCH (y)-[:`r1371`]-\u003e(docextra {`uri`: $docextra_uri}) RETURN x LIMIT 10\n"
          ],
          "output_type": "stream"
        },
        {
          "traceback": [
            "\u001b[0;31m---------------------------------------------------------------------------\u001b[0m",
            "\u001b[0;31mTypeError\u001b[0m                                 Traceback (most recent call last)",
            "\u001b[0;32m\u003cipython-input-52-496b51311bdf\u003e\u001b[0m in \u001b[0;36m\u003cmodule\u003e\u001b[0;34m\u001b[0m\n\u001b[1;32m     20\u001b[0m \u001b[0;34m\u001b[0m\u001b[0m\n\u001b[1;32m     21\u001b[0m \u001b[0;32mwith\u001b[0m \u001b[0mdriver\u001b[0m\u001b[0;34m.\u001b[0m\u001b[0msession\u001b[0m\u001b[0;34m(\u001b[0m\u001b[0;34m)\u001b[0m \u001b[0;32mas\u001b[0m \u001b[0msession\u001b[0m\u001b[0;34m:\u001b[0m\u001b[0;34m\u001b[0m\u001b[0;34m\u001b[0m\u001b[0m\n\u001b[0;32m---\u003e 22\u001b[0;31m     \u001b[0mout\u001b[0m \u001b[0;34m\u003d\u001b[0m \u001b[0msession\u001b[0m\u001b[0;34m.\u001b[0m\u001b[0mwrite_transaction\u001b[0m\u001b[0;34m(\u001b[0m\u001b[0mquery\u001b[0m\u001b[0;34m)\u001b[0m\u001b[0;34m\u001b[0m\u001b[0;34m\u001b[0m\u001b[0m\n\u001b[0m\u001b[1;32m     23\u001b[0m     \u001b[0mprint\u001b[0m\u001b[0;34m(\u001b[0m\u001b[0mout\u001b[0m\u001b[0;34m)\u001b[0m\u001b[0;34m\u001b[0m\u001b[0;34m\u001b[0m\u001b[0m\n",
            "\u001b[0;32m~/anaconda3/lib/python3.7/site-packages/neo4j/__init__.py\u001b[0m in \u001b[0;36mwrite_transaction\u001b[0;34m(self, unit_of_work, *args, **kwargs)\u001b[0m\n\u001b[1;32m    710\u001b[0m     \u001b[0;32mdef\u001b[0m \u001b[0mwrite_transaction\u001b[0m\u001b[0;34m(\u001b[0m\u001b[0mself\u001b[0m\u001b[0;34m,\u001b[0m \u001b[0munit_of_work\u001b[0m\u001b[0;34m,\u001b[0m \u001b[0;34m*\u001b[0m\u001b[0margs\u001b[0m\u001b[0;34m,\u001b[0m \u001b[0;34m**\u001b[0m\u001b[0mkwargs\u001b[0m\u001b[0;34m)\u001b[0m\u001b[0;34m:\u001b[0m\u001b[0;34m\u001b[0m\u001b[0;34m\u001b[0m\u001b[0m\n\u001b[1;32m    711\u001b[0m         \u001b[0mself\u001b[0m\u001b[0;34m.\u001b[0m\u001b[0m_assert_open\u001b[0m\u001b[0;34m(\u001b[0m\u001b[0;34m)\u001b[0m\u001b[0;34m\u001b[0m\u001b[0;34m\u001b[0m\u001b[0m\n\u001b[0;32m--\u003e 712\u001b[0;31m         \u001b[0;32mreturn\u001b[0m \u001b[0mself\u001b[0m\u001b[0;34m.\u001b[0m\u001b[0m_run_transaction\u001b[0m\u001b[0;34m(\u001b[0m\u001b[0mWRITE_ACCESS\u001b[0m\u001b[0;34m,\u001b[0m \u001b[0munit_of_work\u001b[0m\u001b[0;34m,\u001b[0m \u001b[0;34m*\u001b[0m\u001b[0margs\u001b[0m\u001b[0;34m,\u001b[0m \u001b[0;34m**\u001b[0m\u001b[0mkwargs\u001b[0m\u001b[0;34m)\u001b[0m\u001b[0;34m\u001b[0m\u001b[0;34m\u001b[0m\u001b[0m\n\u001b[0m\u001b[1;32m    713\u001b[0m \u001b[0;34m\u001b[0m\u001b[0m\n\u001b[1;32m    714\u001b[0m     \u001b[0;32mdef\u001b[0m \u001b[0m_assert_open\u001b[0m\u001b[0;34m(\u001b[0m\u001b[0mself\u001b[0m\u001b[0;34m)\u001b[0m\u001b[0;34m:\u001b[0m\u001b[0;34m\u001b[0m\u001b[0;34m\u001b[0m\u001b[0m\n",
            "\u001b[0;32m~/anaconda3/lib/python3.7/site-packages/neo4j/__init__.py\u001b[0m in \u001b[0;36m_run_transaction\u001b[0;34m(self, access_mode, unit_of_work, *args, **kwargs)\u001b[0m\n\u001b[1;32m    673\u001b[0m                 \u001b[0mtx\u001b[0m \u001b[0;34m\u003d\u001b[0m \u001b[0mself\u001b[0m\u001b[0;34m.\u001b[0m\u001b[0m_transaction\u001b[0m\u001b[0;34m\u001b[0m\u001b[0;34m\u001b[0m\u001b[0m\n\u001b[1;32m    674\u001b[0m                 \u001b[0;32mtry\u001b[0m\u001b[0;34m:\u001b[0m\u001b[0;34m\u001b[0m\u001b[0;34m\u001b[0m\u001b[0m\n\u001b[0;32m--\u003e 675\u001b[0;31m                     \u001b[0mresult\u001b[0m \u001b[0;34m\u003d\u001b[0m \u001b[0munit_of_work\u001b[0m\u001b[0;34m(\u001b[0m\u001b[0mtx\u001b[0m\u001b[0;34m,\u001b[0m \u001b[0;34m*\u001b[0m\u001b[0margs\u001b[0m\u001b[0;34m,\u001b[0m \u001b[0;34m**\u001b[0m\u001b[0mkwargs\u001b[0m\u001b[0;34m)\u001b[0m\u001b[0;34m\u001b[0m\u001b[0;34m\u001b[0m\u001b[0m\n\u001b[0m\u001b[1;32m    676\u001b[0m                 \u001b[0;32mexcept\u001b[0m \u001b[0mException\u001b[0m\u001b[0;34m:\u001b[0m\u001b[0;34m\u001b[0m\u001b[0;34m\u001b[0m\u001b[0m\n\u001b[1;32m    677\u001b[0m                     \u001b[0;32mif\u001b[0m \u001b[0mtx\u001b[0m\u001b[0;34m.\u001b[0m\u001b[0msuccess\u001b[0m \u001b[0;32mis\u001b[0m \u001b[0;32mNone\u001b[0m\u001b[0;34m:\u001b[0m\u001b[0;34m\u001b[0m\u001b[0;34m\u001b[0m\u001b[0m\n",
            "\u001b[0;32m\u003cipython-input-52-496b51311bdf\u003e\u001b[0m in \u001b[0;36mquery\u001b[0;34m(tx)\u001b[0m\n\u001b[1;32m     17\u001b[0m     \u001b[0mprint\u001b[0m\u001b[0;34m(\u001b[0m\u001b[0mc\u001b[0m\u001b[0;34m)\u001b[0m\u001b[0;34m\u001b[0m\u001b[0;34m\u001b[0m\u001b[0m\n\u001b[1;32m     18\u001b[0m     \u001b[0mresult\u001b[0m \u001b[0;34m\u003d\u001b[0m \u001b[0mtx\u001b[0m\u001b[0;34m.\u001b[0m\u001b[0mrun\u001b[0m\u001b[0;34m(\u001b[0m\u001b[0mstr\u001b[0m\u001b[0;34m(\u001b[0m\u001b[0mc\u001b[0m\u001b[0;34m)\u001b[0m\u001b[0;34m.\u001b[0m\u001b[0mreplace\u001b[0m\u001b[0;34m(\u001b[0m\u001b[0;34m\"e()\"\u001b[0m\u001b[0;34m,\u001b[0m \u001b[0;34m\"e\"\u001b[0m\u001b[0;34m)\u001b[0m\u001b[0;34m,\u001b[0m \u001b[0;34m**\u001b[0m\u001b[0mc\u001b[0m\u001b[0;34m.\u001b[0m\u001b[0mbound_params\u001b[0m\u001b[0;34m)\u001b[0m\u001b[0;34m\u001b[0m\u001b[0;34m\u001b[0m\u001b[0m\n\u001b[0;32m---\u003e 19\u001b[0;31m     \u001b[0;32mreturn\u001b[0m \u001b[0mresult\u001b[0m\u001b[0;34m.\u001b[0m\u001b[0msingle\u001b[0m\u001b[0;34m(\u001b[0m\u001b[0;34m)\u001b[0m\u001b[0;34m[\u001b[0m\u001b[0;36m0\u001b[0m\u001b[0;34m]\u001b[0m\u001b[0;34m\u001b[0m\u001b[0;34m\u001b[0m\u001b[0m\n\u001b[0m\u001b[1;32m     20\u001b[0m \u001b[0;34m\u001b[0m\u001b[0m\n\u001b[1;32m     21\u001b[0m \u001b[0;32mwith\u001b[0m \u001b[0mdriver\u001b[0m\u001b[0;34m.\u001b[0m\u001b[0msession\u001b[0m\u001b[0;34m(\u001b[0m\u001b[0;34m)\u001b[0m \u001b[0;32mas\u001b[0m \u001b[0msession\u001b[0m\u001b[0;34m:\u001b[0m\u001b[0;34m\u001b[0m\u001b[0;34m\u001b[0m\u001b[0m\n",
            "\u001b[0;31mTypeError\u001b[0m: \u0027NoneType\u0027 object is not subscriptable"
          ],
          "ename": "TypeError",
          "evalue": "\u0027NoneType\u0027 object is not subscriptable",
          "output_type": "error"
        }
      ],
      "source": "from neo4j import GraphDatabase\n\n# driver \u003d GraphDatabase.driver(\"bolt://192.168.178.150:7687\", auth\u003d(\u0027neo4j\u0027, \u0027password\u0027))\n\ng \u003d Grammar(Pypher())\ng.find(\u0027x\u0027, \"tvshow\", \"http://dbpedia.org/ontology/TelevisionShow\", f\"r2\")\ng.find(\u0027x\u0027, \u0027y\u0027, None, f\"1297\")\ng.find(\u0027y\u0027, \"docextra\", \u0027http://dbpedia.org/resource/Doctor_Who_Extra\u0027, f\"r1371\")\nc \u003d g.get_return(\u0027x\u0027)\nprint(c)\nprint(c.bound_params)\n\ndef query(tx):\n    # g \u003d Grammar(Pypher())\n    # c \u003d g.find(\"http://dbpedia.org/ontology/Work\", f\":r{predicates.container[\u0027http://www.w3.org/1999/02/22-rdf-syntax-ns#type\u0027]}\")\n    c.LIMIT(10)\n    print(c)\n    result \u003d tx.run(str(c).replace(\"e()\", \"e\"), **c.bound_params)\n    return result.single()[0]\n\nwith driver.session() as session:\n    out \u003d session.write_transaction(query)\n    print(out)\n",
      "metadata": {
        "pycharm": {
          "metadata": false,
          "name": "#%%\n",
          "is_executing": false
        }
      }
    }
  ],
  "metadata": {
    "language_info": {
      "codemirror_mode": {
        "name": "ipython",
        "version": 2
      },
      "file_extension": ".py",
      "mimetype": "text/x-python",
      "name": "python",
      "nbconvert_exporter": "python",
      "pygments_lexer": "ipython2",
      "version": "2.7.6"
    },
    "kernelspec": {
      "name": "python3",
      "language": "python",
      "display_name": "Python 3"
    },
    "stem_cell": {
      "cell_type": "raw",
      "source": "",
      "metadata": {
        "pycharm": {
          "metadata": false
        }
      }
    }
  },
  "nbformat": 4,
  "nbformat_minor": 0
}